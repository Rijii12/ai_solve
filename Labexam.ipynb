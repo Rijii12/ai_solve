{
  "nbformat": 4,
  "nbformat_minor": 0,
  "metadata": {
    "colab": {
      "provenance": [],
      "authorship_tag": "ABX9TyNdQWMZKOND+M8To7CFXeXQ",
      "include_colab_link": true
    },
    "kernelspec": {
      "name": "python3",
      "display_name": "Python 3"
    },
    "language_info": {
      "name": "python"
    }
  },
  "cells": [
    {
      "cell_type": "markdown",
      "metadata": {
        "id": "view-in-github",
        "colab_type": "text"
      },
      "source": [
        "<a href=\"https://colab.research.google.com/github/Rijii12/ai_solve/blob/main/Labexam.ipynb\" target=\"_parent\"><img src=\"https://colab.research.google.com/assets/colab-badge.svg\" alt=\"Open In Colab\"/></a>"
      ]
    },
    {
      "cell_type": "code",
      "execution_count": 1,
      "metadata": {
        "colab": {
          "base_uri": "https://localhost:8080/"
        },
        "id": "kmMAner4vpBK",
        "outputId": "feeac72e-a5cc-4413-f211-77db681bb6fa"
      },
      "outputs": [
        {
          "output_type": "stream",
          "name": "stdout",
          "text": [
            "Cleaning A\n",
            "Cleaning B\n",
            "All locations are clean!\n"
          ]
        }
      ],
      "source": [
        "class VacuumCleaner:\n",
        "    def __init__(self):\n",
        "        self.location = \"A\"\n",
        "        self.environment = {\"A\": \"Dirty\", \"B\": \"Dirty\"}\n",
        "\n",
        "    def clean(self):\n",
        "        while \"Dirty\" in self.environment.values():\n",
        "            if self.environment[self.location] == \"Dirty\":\n",
        "                print(f\"Cleaning {self.location}\")\n",
        "                self.environment[self.location] = \"Clean\"\n",
        "            else:\n",
        "                print(f\"{self.location} is already clean.\")\n",
        "            self.location = \"A\" if self.location == \"B\" else \"B\"\n",
        "        print(\"All locations are clean!\")\n",
        "\n",
        "vacuum = VacuumCleaner()\n",
        "vacuum.clean()"
      ]
    },
    {
      "cell_type": "code",
      "source": [
        "def block_heuristic(state, goal_state):\n",
        "    return sum(1 for i in range(len(state)) if state[i] != goal_state[i])\n",
        "\n",
        "initial_state = [\"A\", \"B\", \"C\", \"D\"]\n",
        "goal_state = [\"B\", \"A\", \"D\", \"C\"]\n",
        "heuristic_value = block_heuristic(initial_state, goal_state)\n",
        "print(f\"Heuristic Value: {heuristic_value}\")"
      ],
      "metadata": {
        "colab": {
          "base_uri": "https://localhost:8080/"
        },
        "id": "3VOsveOOv8VS",
        "outputId": "6c046aa0-022d-41bf-9bcf-e78c9be5eb0a"
      },
      "execution_count": 2,
      "outputs": [
        {
          "output_type": "stream",
          "name": "stdout",
          "text": [
            "Heuristic Value: 4\n"
          ]
        }
      ]
    },
    {
      "cell_type": "code",
      "source": [
        "import numpy as np\n",
        "\n",
        "class Perceptron:\n",
        "    def __init__(self, learning_rate=0.1, epochs=10):\n",
        "        self.learning_rate = learning_rate\n",
        "        self.epochs = epochs\n",
        "        self.weights = None\n",
        "\n",
        "    def train(self, X, y):\n",
        "        self.weights = np.zeros(X.shape[1] + 1)\n",
        "        for _ in range(self.epochs):\n",
        "            for xi, target in zip(X, y):\n",
        "                update = self.learning_rate * (target - self.predict(xi))\n",
        "                self.weights[1:] += update * xi\n",
        "                self.weights[0] += update\n",
        "\n",
        "    def predict(self, X):\n",
        "        return np.where(np.dot(X, self.weights[1:]) + self.weights[0] > 0, 1, 0)\n",
        "\n",
        "X = np.array([[1, 1], [1, -1], [-1, 1], [-1, -1]])\n",
        "y = np.array([1, 0, 0, 0])\n",
        "perceptron = Perceptron()\n",
        "perceptron.train(X, y)\n",
        "print(\"Trained weights:\", perceptron.weights)"
      ],
      "metadata": {
        "colab": {
          "base_uri": "https://localhost:8080/"
        },
        "id": "ZU0ImvxgwJvC",
        "outputId": "c08904e3-45c1-42b9-b67e-2a61454357d1"
      },
      "execution_count": 3,
      "outputs": [
        {
          "output_type": "stream",
          "name": "stdout",
          "text": [
            "Trained weights: [-0.1  0.1  0.1]\n"
          ]
        }
      ]
    },
    {
      "cell_type": "code",
      "source": [
        "import numpy as np\n",
        "\n",
        "class LinearRegression:\n",
        "    def __init__(self, learning_rate=0.01, epochs=1000):\n",
        "        self.learning_rate = learning_rate\n",
        "        self.epochs = epochs\n",
        "        self.weights = None\n",
        "        self.bias = None\n",
        "\n",
        "    def train(self, X, y):\n",
        "        n_samples, n_features = X.shape\n",
        "        self.weights = np.zeros(n_features)\n",
        "        self.bias = 0\n",
        "\n",
        "        for _ in range(self.epochs):\n",
        "            y_pred = np.dot(X, self.weights) + self.bias\n",
        "            dw = (1 / n_samples) * np.dot(X.T, (y_pred - y))\n",
        "            db = (1 / n_samples) * np.sum(y_pred - y)\n",
        "\n",
        "            self.weights -= self.learning_rate * dw\n",
        "            self.bias -= self.learning_rate * db\n",
        "\n",
        "    def predict(self, X):\n",
        "        return np.dot(X, self.weights) + self.bias\n",
        "\n",
        "X = np.array([[1], [2], [3], [4]])\n",
        "y = np.array([2.2, 2.8, 3.6, 4.5])\n",
        "lr = LinearRegression()\n",
        "lr.train(X, y)\n",
        "print(\"Weights:\", lr.weights)\n",
        "print(\"Bias:\", lr.bias)"
      ],
      "metadata": {
        "colab": {
          "base_uri": "https://localhost:8080/"
        },
        "id": "SgmKKClmwR84",
        "outputId": "b0e01b5f-7923-40bc-92ae-759e37105b1e"
      },
      "execution_count": 4,
      "outputs": [
        {
          "output_type": "stream",
          "name": "stdout",
          "text": [
            "Weights: [0.8441584]\n",
            "Bias: 1.131965274871835\n"
          ]
        }
      ]
    },
    {
      "cell_type": "code",
      "source": [
        "def manhattan_distance(state, goal_state):\n",
        "    distance = 0\n",
        "    for i, tile in enumerate(state):\n",
        "        if tile == 0:\n",
        "            continue\n",
        "        goal_index = goal_state.index(tile)\n",
        "        distance += abs(i // 3 - goal_index // 3) + abs(i % 3 - goal_index % 3)\n",
        "    return distance\n",
        "\n",
        "initial_state = [1, 2, 3, 4, 0, 5, 6, 7, 8]\n",
        "goal_state = [1, 2, 3, 4, 5, 6, 7, 8, 0]\n",
        "heuristic_value = manhattan_distance(initial_state, goal_state)\n",
        "print(f\"Manhattan Distance: {heuristic_value}\")"
      ],
      "metadata": {
        "colab": {
          "base_uri": "https://localhost:8080/"
        },
        "id": "LJiISTwnwYYW",
        "outputId": "eac9888d-5dc3-4833-d453-118c5cfb9d7d"
      },
      "execution_count": 5,
      "outputs": [
        {
          "output_type": "stream",
          "name": "stdout",
          "text": [
            "Manhattan Distance: 6\n"
          ]
        }
      ]
    }
  ]
}